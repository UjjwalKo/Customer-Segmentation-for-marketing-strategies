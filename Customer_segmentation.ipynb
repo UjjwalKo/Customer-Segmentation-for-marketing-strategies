{
 "cells": [
  {
   "cell_type": "markdown",
   "id": "0013d5b5",
   "metadata": {},
   "source": [
    "## Project Name: Customer Segmentation for marketing strategies "
   ]
  },
  {
   "cell_type": "markdown",
   "id": "7c45dec6",
   "metadata": {},
   "source": [
    "## Information About Dataset\n",
    "##### The dataset you've provided is an online retail dataset, which contains transactional data. Each row represents an individual transaction, capturing details about the products purchased, the transaction specifics, and customer information.\n",
    "##### InvoiceNo: Unique transaction identifier.<br> StockCode: Unique product identifier.<br> Description: Product name or type.<br> Quantity: Number of units purchased.<br> InvoiceDate: Date and time of the transaction.<br> UnitPrice: Price per unit of the product.<br> CustomerID: Unique customer identifier.<br> Country: Customer's country."
   ]
  },
  {
   "cell_type": "markdown",
   "id": "f5987ee0",
   "metadata": {},
   "source": [
    "##### Importing all required libraries"
   ]
  },
  {
   "cell_type": "code",
   "execution_count": null,
   "id": "e958b394-e944-4c1d-a9bc-2fe59a35960a",
   "metadata": {},
   "outputs": [],
   "source": [
    "import pandas as pd\n",
    "import numpy as np\n",
    "import matplotlib.pyplot as plt\n",
    "import seaborn as sns\n",
    "from sklearn.preprocessing import StandardScaler\n",
    "from sklearn.cluster import KMeans, DBSCAN\n",
    "from sklearn.decomposition import PCA"
   ]
  },
  {
   "cell_type": "markdown",
   "id": "0354096d",
   "metadata": {},
   "source": [
    "##### Reading the dataset"
   ]
  },
  {
   "cell_type": "code",
   "execution_count": null,
   "id": "c0c62578-bb76-481a-987f-812039e7aa2a",
   "metadata": {},
   "outputs": [],
   "source": [
    "data = pd.read_csv('Customer_data/Online_Retail.csv')"
   ]
  },
  {
   "cell_type": "markdown",
   "id": "9c753149",
   "metadata": {},
   "source": [
    "##### Viewing the first 5 rows of the dataset"
   ]
  },
  {
   "cell_type": "code",
   "execution_count": null,
   "id": "e80e186a-c4fb-4336-8e5f-f8fe6740e674",
   "metadata": {},
   "outputs": [],
   "source": [
    "data.head()"
   ]
  },
  {
   "cell_type": "markdown",
   "id": "bea6cba5",
   "metadata": {},
   "source": [
    "##### Checking missing values in the dataset"
   ]
  },
  {
   "cell_type": "code",
   "execution_count": null,
   "id": "84d5934a-c3b7-4940-a057-5b896b972151",
   "metadata": {},
   "outputs": [],
   "source": [
    "data.isnull().sum()"
   ]
  },
  {
   "cell_type": "markdown",
   "id": "a08eec2c",
   "metadata": {},
   "source": [
    "##### Dropping the missing values of the CustomerID column"
   ]
  },
  {
   "cell_type": "code",
   "execution_count": null,
   "id": "e3640427-8fc7-4872-9e44-a87dc0405285",
   "metadata": {},
   "outputs": [],
   "source": [
    "# Remove rows with missing CustomerID\n",
    "clean_data = data.dropna(subset=['CustomerID'])"
   ]
  },
  {
   "cell_type": "markdown",
   "id": "b7a9666d",
   "metadata": {},
   "source": [
    "##### Formatting the InvoiceDate column"
   ]
  },
  {
   "cell_type": "code",
   "execution_count": null,
   "id": "936846b5-59bc-402a-9b1a-f5e51c12345f",
   "metadata": {},
   "outputs": [],
   "source": [
    "clean_data[\"InvoiceDate\"] = pd.to_datetime(clean_data[\"InvoiceDate\"], format=\"%m/%d/%Y %H:%M\")"
   ]
  },
  {
   "cell_type": "markdown",
   "id": "59f60052",
   "metadata": {},
   "source": [
    "##### Creating a new column TotalPrice "
   ]
  },
  {
   "cell_type": "code",
   "execution_count": null,
   "id": "9ecd0507-8630-4752-906a-e8fcb03b7224",
   "metadata": {},
   "outputs": [],
   "source": [
    "clean_data[\"year\"] = clean_data[\"InvoiceDate\"].dt.year\n",
    "clean_data['Month'] = clean_data['InvoiceDate'].dt.month_name()\n",
    "clean_data['Day'] = clean_data['InvoiceDate'].dt.day_name()\n",
    "clean_data['TotalPrice'] = clean_data['Quantity'] * clean_data['UnitPrice']"
   ]
  },
  {
   "cell_type": "markdown",
   "id": "ba6077ff",
   "metadata": {},
   "source": [
    "##### Finding top ten products "
   ]
  },
  {
   "cell_type": "code",
   "execution_count": null,
   "id": "b7a04086-4767-49e6-b4d1-addc4e28232e",
   "metadata": {},
   "outputs": [],
   "source": [
    "top_ten_prod = (\n",
    "    clean_data['Description'].value_counts().nlargest(10).reset_index().rename(columns={'index': 'Product_name', 'Description': 'Count'}))\n",
    "top_ten_prod.columns"
   ]
  },
  {
   "cell_type": "markdown",
   "id": "05a10f2f",
   "metadata": {},
   "source": [
    "##### Visualizing the top ten products"
   ]
  },
  {
   "cell_type": "code",
   "execution_count": null,
   "id": "940091e2-ed39-4464-862d-69e2407045c6",
   "metadata": {},
   "outputs": [],
   "source": [
    "# Top 10 items in terms of description\n",
    "plt.figure(figsize=(12, 6))\n",
    "sns.barplot(x=top_ten_prod['count'], y=top_ten_prod['Count'])\n",
    "plt.xticks(rotation=40)\n",
    "plt.title('Top 10 Products')\n",
    "plt.xlabel('Count')\n",
    "plt.ylabel('Product')  \n",
    "plt.show()"
   ]
  },
  {
   "cell_type": "markdown",
   "id": "b177df86",
   "metadata": {},
   "source": [
    "##### Finding top five countries based on highest no. of customers"
   ]
  },
  {
   "cell_type": "code",
   "execution_count": null,
   "id": "b8975c6d-3774-4a84-87ed-8dd58751c0e2",
   "metadata": {},
   "outputs": [],
   "source": [
    "top_5_countries = clean_data['Country'].value_counts().reset_index().rename(columns={'index':'Country','Country':'Customer_count'})\n",
    "top_5_countries.columns"
   ]
  },
  {
   "cell_type": "markdown",
   "id": "bd47560b",
   "metadata": {},
   "source": [
    "##### Visualizing the top five countries based on highest no. of customers"
   ]
  },
  {
   "cell_type": "code",
   "execution_count": null,
   "id": "262d836b-a397-4af4-a72e-9384d70f9c4e",
   "metadata": {},
   "outputs": [],
   "source": [
    "plt.figure(figsize=(15,5))\n",
    "sns.barplot(x=top_5_countries['count'].head(5),y=top_5_countries['Customer_count'].head(5))\n",
    "plt.title('Top 5 Countries based on highest number of customers')"
   ]
  },
  {
   "cell_type": "markdown",
   "id": "a3106ef6",
   "metadata": {},
   "source": [
    "##### Finding sales in the diffrent months "
   ]
  },
  {
   "cell_type": "code",
   "execution_count": null,
   "id": "2fd58786-8e01-4ae6-b0e8-d6dd020588e1",
   "metadata": {},
   "outputs": [],
   "source": [
    "sales_in_month = clean_data['Month'].value_counts().reset_index().rename(columns={'index':'Month','Month':'Sales_count'})\n",
    "sales_in_month.columns"
   ]
  },
  {
   "cell_type": "markdown",
   "id": "e20c65b8",
   "metadata": {},
   "source": [
    "##### Visualizing the sales in the diffrent months"
   ]
  },
  {
   "cell_type": "code",
   "execution_count": null,
   "id": "1cd53a33-72ba-445b-a2ab-1f7869c53638",
   "metadata": {},
   "outputs": [],
   "source": [
    "# Sales count in different months.\n",
    "plt.figure(figsize=(20,6))\n",
    "sns.barplot(x=sales_in_month['count'],y=sales_in_month['Sales_count'])\n",
    "plt.title('Sales count in different Months')"
   ]
  },
  {
   "cell_type": "markdown",
   "id": "b87c6fdc",
   "metadata": {},
   "source": [
    "##### Aggregating data by CustomerID to count unique invoices and sum quantities and total prices"
   ]
  },
  {
   "cell_type": "code",
   "execution_count": null,
   "id": "a6ba84e8-50bd-47c1-a34c-cfd06390b6c8",
   "metadata": {},
   "outputs": [],
   "source": [
    "customer_data = clean_data.groupby('CustomerID').agg({\n",
    "    'InvoiceNo': 'nunique',  \n",
    "    'Quantity': 'sum',       \n",
    "    'TotalPrice': 'sum'      \n",
    "}).reset_index()"
   ]
  },
  {
   "cell_type": "markdown",
   "id": "4e38e99f",
   "metadata": {},
   "source": [
    "##### Renaming the columns for better understanding "
   ]
  },
  {
   "cell_type": "code",
   "execution_count": null,
   "id": "4b0d83ce-1ba9-4a1d-ab3b-6026d2a2ca7d",
   "metadata": {},
   "outputs": [],
   "source": [
    "customer_data.columns = ['CustomerID', 'NumInvoices', 'TotalQuantity', 'TotalSpending']"
   ]
  },
  {
   "cell_type": "markdown",
   "id": "486bba5e",
   "metadata": {},
   "source": [
    "##### Display the first few rows of the aggregated customer data"
   ]
  },
  {
   "cell_type": "code",
   "execution_count": null,
   "id": "95f42acb-7661-4a9c-a40d-34d7d1ba9d77",
   "metadata": {},
   "outputs": [],
   "source": [
    "customer_data.head()"
   ]
  },
  {
   "cell_type": "markdown",
   "id": "56a15284",
   "metadata": {},
   "source": [
    "##### Standardizing the numerical features 'NumInvoices', 'TotalQuantity', and 'TotalSpending' by scaling them to have a mean of 0 and a standard deviation of 1."
   ]
  },
  {
   "cell_type": "code",
   "execution_count": null,
   "id": "524bb77f-0696-46b8-be53-63fdf9782950",
   "metadata": {},
   "outputs": [],
   "source": [
    "scaler = StandardScaler()\n",
    "scaled_data = scaler.fit_transform(customer_data[['NumInvoices', 'TotalQuantity', 'TotalSpending']])"
   ]
  },
  {
   "cell_type": "markdown",
   "id": "07079519",
   "metadata": {},
   "source": [
    "##### Appling K-Means clustering"
   ]
  },
  {
   "cell_type": "code",
   "execution_count": null,
   "id": "889ad3eb-e4ff-40fb-bfa4-0a428e5ecf58",
   "metadata": {},
   "outputs": [],
   "source": [
    "kmeans = KMeans(n_clusters=4, random_state=42)\n",
    "customer_data['Cluster'] = kmeans.fit_predict(scaled_data)"
   ]
  },
  {
   "cell_type": "markdown",
   "id": "9c8ab2d0",
   "metadata": {},
   "source": [
    "##### Appling PCA for dimensionality reduction"
   ]
  },
  {
   "cell_type": "code",
   "execution_count": null,
   "id": "78b2fd1d-29d4-48a5-b6e6-8f5c38a1adc8",
   "metadata": {},
   "outputs": [],
   "source": [
    "pca = PCA(n_components=2)\n",
    "principal_components = pca.fit_transform(scaled_data)"
   ]
  },
  {
   "cell_type": "markdown",
   "id": "83b64845",
   "metadata": {},
   "source": [
    "##### Create a DataFrame with the principal components"
   ]
  },
  {
   "cell_type": "code",
   "execution_count": null,
   "id": "dcb68ed1-01b7-495a-bc30-b714373b0fd9",
   "metadata": {},
   "outputs": [],
   "source": [
    "pca_df = pd.DataFrame(data=principal_components, columns=['PC1', 'PC2'])\n",
    "pca_df['Cluster'] = customer_data['Cluster']"
   ]
  },
  {
   "cell_type": "markdown",
   "id": "1099f9a1",
   "metadata": {},
   "source": [
    "##### Plotting the clusters"
   ]
  },
  {
   "cell_type": "code",
   "execution_count": null,
   "id": "fefb766e-ef42-4d28-9763-c13c343817a5",
   "metadata": {},
   "outputs": [],
   "source": [
    "plt.figure(figsize=(10, 6))\n",
    "sns.scatterplot(x='PC1', y='PC2', hue='Cluster', data=pca_df, palette='viridis', s=100, alpha=0.7)\n",
    "plt.title('Customer Segmentation using K-Means Clustering')\n",
    "plt.xlabel('Principal Component 1')\n",
    "plt.ylabel('Principal Component 2')\n",
    "plt.legend(title='Cluster')\n",
    "plt.grid(True)\n",
    "plt.show()"
   ]
  },
  {
   "cell_type": "markdown",
   "id": "78a5b1b9",
   "metadata": {},
   "source": [
    "##### This above plot shows the distribution of customers across different clusters based on their purchasing behavior. Each color represents a different cluster, helping to identify distinct customer segments for targeted marketing strategies."
   ]
  },
  {
   "cell_type": "markdown",
   "id": "96d0777e",
   "metadata": {},
   "source": [
    "##### Appling DBSCAN clustering <br> Using eps=0.5 and min_samples=5 as initial parameters <br> These parameters might need tuning based on the data distribution"
   ]
  },
  {
   "cell_type": "code",
   "execution_count": null,
   "id": "f3713507-6801-40bc-9e31-3adf5168c588",
   "metadata": {},
   "outputs": [],
   "source": [
    "dbscan = DBSCAN(eps=0.5, min_samples=5)\n",
    "customer_data['DBSCAN_Cluster'] = dbscan.fit_predict(scaled_data)\n",
    "pca_df['DBSCAN_Cluster'] = customer_data['DBSCAN_Cluster']"
   ]
  },
  {
   "cell_type": "markdown",
   "id": "edf13a8c",
   "metadata": {},
   "source": [
    "##### Visualizing the DBSCAN clustering results using PCA"
   ]
  },
  {
   "cell_type": "code",
   "execution_count": null,
   "id": "1174e484-71cd-41bc-9b30-70a1b67cf8c4",
   "metadata": {},
   "outputs": [],
   "source": [
    "plt.figure(figsize=(10, 6))\n",
    "sns.scatterplot(x='PC1', y='PC2', hue='DBSCAN_Cluster', data=pca_df, palette='viridis', s=100, alpha=0.7)\n",
    "plt.title('Customer Segmentation using DBSCAN Clustering')\n",
    "plt.xlabel('Principal Component 1')\n",
    "plt.ylabel('Principal Component 2')\n",
    "plt.legend(title='DBSCAN Cluster')\n",
    "plt.grid(True)\n",
    "plt.show()"
   ]
  },
  {
   "cell_type": "markdown",
   "id": "5c884ab4",
   "metadata": {},
   "source": [
    "##### Cluster -1 represents the outliers or noise points. These are typically shown in a distinct color, often gray or black, in the plot. Cluster 0 represents the main cluster of customers."
   ]
  }
 ],
 "metadata": {
  "kernelspec": {
   "display_name": "Python 3 (ipykernel)",
   "language": "python",
   "name": "python3"
  },
  "language_info": {
   "codemirror_mode": {
    "name": "ipython",
    "version": 3
   },
   "file_extension": ".py",
   "mimetype": "text/x-python",
   "name": "python",
   "nbconvert_exporter": "python",
   "pygments_lexer": "ipython3",
   "version": "3.12.1"
  }
 },
 "nbformat": 4,
 "nbformat_minor": 5
}
